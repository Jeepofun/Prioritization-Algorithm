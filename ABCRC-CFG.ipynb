{
 "cells": [
  {
   "cell_type": "code",
   "execution_count": 1,
   "id": "ed8c8e81-a138-49ad-b944-8c73bf7af2d7",
   "metadata": {
    "tags": []
   },
   "outputs": [],
   "source": [
    "import pandas as pd\n",
    "import numpy as np\n",
    "import matplotlib.pyplot as plt\n",
    "import seaborn as sns\n",
    "import shap\n",
    "from lightgbm import LGBMRegressor"
   ]
  },
  {
   "cell_type": "code",
   "execution_count": 2,
   "id": "5b727239-2776-4aed-be06-e3f11b3f0a4f",
   "metadata": {},
   "outputs": [],
   "source": [
    "abcrc = pd.read_csv('ABCRC Data - CFG.csv') "
   ]
  },
  {
   "cell_type": "code",
   "execution_count": 3,
   "id": "e96ab7c9-197f-4505-99f9-1b7787ffba90",
   "metadata": {},
   "outputs": [],
   "source": [
    "X = abcrc[['Knowledgeable', 'Fair', 'Ethical', 'Sustainable', 'Mission-driven', 'Courageous', 'Inclusive',\n",
    "           'Responsive', 'Generous', 'Transparent',\t'Accessible', 'Sincere']]\n",
    "\n",
    "y = abcrc.DV"
   ]
  },
  {
   "cell_type": "code",
   "execution_count": 4,
   "id": "b53fef8e-b30d-48ee-8233-ea262635f7fe",
   "metadata": {},
   "outputs": [
    {
     "data": {
      "text/plain": [
       "LGBMRegressor()"
      ]
     },
     "execution_count": 4,
     "metadata": {},
     "output_type": "execute_result"
    }
   ],
   "source": [
    "model = LGBMRegressor()\n",
    "model.fit(X,y)"
   ]
  },
  {
   "cell_type": "code",
   "execution_count": 5,
   "id": "71ede613-2cec-482f-bb12-ba0528d270ea",
   "metadata": {},
   "outputs": [],
   "source": [
    "explainer = shap.Explainer(model, X)\n",
    "shap_values = explainer(X)"
   ]
  },
  {
   "cell_type": "code",
   "execution_count": 6,
   "id": "579633a8-478f-43da-a07a-d84079ff06ad",
   "metadata": {},
   "outputs": [
    {
     "data": {
      "image/png": "[encoded data removed]",
      "text/plain": [
       "<Figure size 576x468 with 1 Axes>"
      ]
     },
     "metadata": {},
     "output_type": "display_data"
    }
   ],
   "source": [
    "shap.plots.bar(shap_values)"
   ]
  },
  {
   "cell_type": "code",
   "execution_count": 7,
   "id": "71978c0a-1f40-44d3-bac8-c078d1683a3d",
   "metadata": {},
   "outputs": [
    {
     "data": {
      "text/html": [
       "<div>\n",
       "<style scoped>\n",
       "    .dataframe tbody tr th:only-of-type {\n",
       "        vertical-align: middle;\n",
       "    }\n",
       "\n",
       "    .dataframe tbody tr th {\n",
       "        vertical-align: top;\n",
       "    }\n",
       "\n",
       "    .dataframe thead th {\n",
       "        text-align: right;\n",
       "    }\n",
       "</style>\n",
       "<table border=\"1\" class=\"dataframe\">\n",
       "  <thead>\n",
       "    <tr style=\"text-align: right;\">\n",
       "      <th></th>\n",
       "      <th>col_name</th>\n",
       "      <th>feature_importance_vals</th>\n",
       "    </tr>\n",
       "  </thead>\n",
       "  <tbody>\n",
       "    <tr>\n",
       "      <th>10</th>\n",
       "      <td>Accessible</td>\n",
       "      <td>0.268739</td>\n",
       "    </tr>\n",
       "    <tr>\n",
       "      <th>3</th>\n",
       "      <td>Sustainable</td>\n",
       "      <td>0.233266</td>\n",
       "    </tr>\n",
       "    <tr>\n",
       "      <th>2</th>\n",
       "      <td>Ethical</td>\n",
       "      <td>0.206388</td>\n",
       "    </tr>\n",
       "    <tr>\n",
       "      <th>6</th>\n",
       "      <td>Inclusive</td>\n",
       "      <td>0.155979</td>\n",
       "    </tr>\n",
       "    <tr>\n",
       "      <th>4</th>\n",
       "      <td>Mission-driven</td>\n",
       "      <td>0.081027</td>\n",
       "    </tr>\n",
       "    <tr>\n",
       "      <th>1</th>\n",
       "      <td>Fair</td>\n",
       "      <td>0.069232</td>\n",
       "    </tr>\n",
       "    <tr>\n",
       "      <th>9</th>\n",
       "      <td>Transparent</td>\n",
       "      <td>0.068873</td>\n",
       "    </tr>\n",
       "    <tr>\n",
       "      <th>8</th>\n",
       "      <td>Generous</td>\n",
       "      <td>0.068831</td>\n",
       "    </tr>\n",
       "    <tr>\n",
       "      <th>11</th>\n",
       "      <td>Sincere</td>\n",
       "      <td>0.064898</td>\n",
       "    </tr>\n",
       "    <tr>\n",
       "      <th>0</th>\n",
       "      <td>Knowledgeable</td>\n",
       "      <td>0.056612</td>\n",
       "    </tr>\n",
       "    <tr>\n",
       "      <th>5</th>\n",
       "      <td>Courageous</td>\n",
       "      <td>0.043471</td>\n",
       "    </tr>\n",
       "    <tr>\n",
       "      <th>7</th>\n",
       "      <td>Responsive</td>\n",
       "      <td>0.033599</td>\n",
       "    </tr>\n",
       "  </tbody>\n",
       "</table>\n",
       "</div>"
      ],
      "text/plain": [
       "          col_name  feature_importance_vals\n",
       "10      Accessible                 0.268739\n",
       "3      Sustainable                 0.233266\n",
       "2          Ethical                 0.206388\n",
       "6        Inclusive                 0.155979\n",
       "4   Mission-driven                 0.081027\n",
       "1             Fair                 0.069232\n",
       "9      Transparent                 0.068873\n",
       "8         Generous                 0.068831\n",
       "11         Sincere                 0.064898\n",
       "0    Knowledgeable                 0.056612\n",
       "5       Courageous                 0.043471\n",
       "7       Responsive                 0.033599"
      ]
     },
     "execution_count": 7,
     "metadata": {},
     "output_type": "execute_result"
    }
   ],
   "source": [
    "feature_names = shap_values.feature_names\n",
    "shap_df = pd.DataFrame(shap_values.values, columns=feature_names)\n",
    "vals = np.abs(shap_df.values).mean(0)\n",
    "shap_importance = pd.DataFrame(list(zip(feature_names, vals)), columns=['col_name', 'feature_importance_vals'])\n",
    "shap_importance.sort_values(by=['feature_importance_vals'], ascending=False, inplace=True)\n",
    "shap_importance.head(12)"
   ]
  },
  {
   "cell_type": "code",
   "execution_count": 8,
   "id": "3f9d7759-0b0c-4fb5-820e-24686105c3f3",
   "metadata": {},
   "outputs": [
    {
     "name": "stdout",
     "output_type": "stream",
     "text": [
      "LGBM R2_SCORE: 0.7476885256184715\n"
     ]
    }
   ],
   "source": [
    "from sklearn.metrics import r2_score,mean_squared_error as MSE\n",
    "y_pred = model.predict(X)\n",
    "print(\"LGBM R2_SCORE:\", r2_score(y, model.predict(X)))"
   ]
  }
 ],
 "metadata": {
  "kernelspec": {
   "display_name": "Python 3 (ipykernel)",
   "language": "python",
   "name": "python3"
  },
  "language_info": {
   "codemirror_mode": {
    "name": "ipython",
    "version": 3
   },
   "file_extension": ".py",
   "mimetype": "text/x-python",
   "name": "python",
   "nbconvert_exporter": "python",
   "pygments_lexer": "ipython3",
   "version": "3.9.7"
  }
 },
 "nbformat": 4,
 "nbformat_minor": 5
}
